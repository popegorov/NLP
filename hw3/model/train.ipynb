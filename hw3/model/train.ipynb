{
 "cells": [
  {
   "cell_type": "code",
   "execution_count": 1,
   "metadata": {},
   "outputs": [],
   "source": [
    "from llama import LLaMa\n",
    "from datasets import load_dataset\n",
    "from huggingface_hub import HfFolder, login\n",
    "from transformers import Trainer, TrainingArguments, AutoTokenizer\n",
    "from torch import nn\n",
    "from torch.utils.data import DataLoader, Dataset\n",
    "\n",
    "import torch"
   ]
  },
  {
   "cell_type": "code",
   "execution_count": 2,
   "metadata": {},
   "outputs": [
    {
     "name": "stdout",
     "output_type": "stream",
     "text": [
      "The token has not been saved to the git credentials helper. Pass `add_to_git_credential=True` in this function directly or `--add-to-git-credential` if using via `huggingface-cli` if you want to set the git credential as well.\n",
      "Token is valid (permission: write).\n",
      "Your token has been saved to /Users/legend/.cache/huggingface/token\n",
      "Login successful\n",
      "Dataset size 1000000\n",
      "Port-au-Prince, Haiti (CNN) -- Earthquake victims, writhing in pain and grasping at life, watched doctors and nurses walk away from a field hospital Friday night after a Belgian medical team evacuated the area, saying it was concerned about security.\n",
      "\n",
      "The decision left CNN Chief Medical Correspondent Sanjay Gupta as the only doctor at the hospital to get the patients through the night.\n",
      "\n",
      "CNN initially reported, based on conversations with some of the doctors, that the United Nations ordered the Belgian First Aid and Support Team to evacuate. However, Belgian Chief Coordinator Geert Gijs, a doctor who was at the hospital with 60 Belgian medical personnel, said it was his decision to pull the team out for the night. Gijs said he requested U.N. security personnel to staff the hospital overnight, but was told that peacekeepers would only be able to evacuate the team.\n",
      "\n",
      "He said it was a \"tough decision\" but that he accepted the U.N. offer to evacuate after a Canadian medical team, also at the hospital with Canadian security officers, left the site Friday afternoon. The Belgian team returned Saturday morning.\n",
      "\n",
      "Gijs said the United Nations has agreed to provide security for Saturday night. The team has requested the Belgian government to send its own troops for the field hospital, which Gijs expects to arrive late Sunday.\n",
      "\n",
      "Responding to the CNN report that Gupta was the only doctor left at the Port-au-Prince field hospital, U.N. spokesman Martin Nesirky said Saturday that the world body's mission in Haiti did not order any medical team to leave. If the team left, it was at the request of their own organization, he said.\n",
      "\n",
      "Edmond Mulet, the U.N. assistant secretary general for peacekeeping operations, told reporters later that local security officers deemed the makeshift hospital unsafe.\n",
      "\n",
      "\"It seems that we've heard some reports in the international media that the United Nations asked or forced some medical teams to not work any more in some clinic -- that is not true, that is completely untrue,\" Mulet said Saturday.\n",
      "\n",
      "CNN video from the scene Friday night shows the Belgian team packing up its supplies and leaving with an escort of blue-helmeted U.N. peacekeepers in marked trucks.\n",
      "\n",
      "View or add to CNN's database of missing persons in Haiti\n",
      "\n",
      "Gupta -- assisted by other CNN staffers, security personnel and at least one Haitian nurse who refused to leave -- assessed the needs of the 25 patients, but there was little they could do without supplies.\n",
      "\n",
      "More people, some in critical condition, were trickling in late Friday.\n",
      "\n",
      "\"I've never been in a situation like this. This is quite ridiculous,\" Gupta said.\n",
      "\n",
      "With a dearth of medical facilities in Haiti's capital, ambulances had nowhere else to take patients, some of whom had suffered severe trauma -- amputations and head injuries -- under the rubble. Others had suffered a great deal of blood loss, but there were no blood supplies left at the clinic.\n",
      "\n",
      "Gupta feared that some would not survive the night.\n",
      "\n",
      "He and the others stayed with the injured all night, after the medical team had left and after the generators gave out and the tents turned pitch black.\n",
      "\n",
      "Gupta monitored patients' vital signs, administered painkillers and continued intravenous drips. He stabilized three new patients in critical condition.\n",
      "\n",
      "At 3:45 a.m., he posted a message on Twitter: \"pulling all nighter at haiti field hosp. lots of work, but all patients stable. turned my crew into a crack med team tonight.\"\n",
      "\n",
      "Are you in Haiti and safe? Share your photos\n",
      "\n",
      "He said the Belgian doctors did not want to leave their patients behind but were ordered out by the United Nations, which sent buses to transport them.\n",
      "\n",
      "\"There is concern about riots not far from here -- and this is part of the problem,\" Gupta said.\n",
      "\n",
      "There have been scattered reports of violence throughout the capital.\n",
      "\n",
      "\"What is striking to me as a physician is that patients who just had surgery, patients who are critically ill, are essentially being left here, nobody to care for them,\" Gupta said.\n",
      "\n",
      "Sandra Pierre, a Haitian who has been helping at the makeshift hospital, said the medical staff took most of the supplies with them.\n",
      "\n",
      "\"All the doctors, all the nurses are gone,\" she said. \"They are expected to be back tomorrow. They had no plan on leaving tonight. It was an order that came suddenly.\"\n",
      "\n",
      "She told Gupta, \"It's just you.\"\n",
      "\n",
      "A 7.0 magnitude earthquake flattened Haiti's capital city Tuesday afternoon, affecting as many as 3 million people as it fanned out across the island nation. Tens of thousands of people are feared dead.\n",
      "\n",
      "Haiti, the poorest nation in the Western hemisphere, lacked adequate medical resources even before the disaster and has been struggling this week to tend to huge numbers of injured. The clinic, set up under several tents, was a godsend to the few who were lucky to have been brought there.\n",
      "\n",
      "Retired Army Lt. Gen. Russel Honore, who led relief efforts for Hurricane Katrina in 2005, said the evacuation of the clinic's medical staff was unforgivable.\n",
      "\n",
      "\"Search and rescue must trump security,\" Honoré said. \"I've never seen anything like this before in my life. They need to man up and get back in there.\"\n",
      "\n",
      "Honoré drew parallels between the tragedy in New Orleans, Louisiana, and in Port-au-Prince. But even in the chaos of Katrina, he said, he had never seen medical staff walk away.\n",
      "\n",
      "\"I find this astonishing these doctors left,\" he said. \"People are scared of the poor.\"\n",
      "\n",
      "CNN's Justine Redman, Danielle Dellorto and John Bonifield contributed to this report.\n"
     ]
    }
   ],
   "source": [
    "login(token=\"\")\n",
    "dataset_id = \"ashaba1in/small_openwebtext\"\n",
    "dataset = load_dataset(dataset_id)\n",
    "\n",
    "print(\"Dataset size\", len(dataset['train']['text']))\n",
    "print(dataset['train']['text'][0])"
   ]
  },
  {
   "cell_type": "code",
   "execution_count": 3,
   "metadata": {},
   "outputs": [],
   "source": [
    "tokenizer_id =\"mistralai/Mistral-7B-v0.1\"\n",
    "tokenizer = AutoTokenizer.from_pretrained('mistralai/Mistral-7B-v0.1')\n",
    "\n",
    "if tokenizer.pad_token is None:\n",
    "    tokenizer.add_special_tokens({'pad_token': tokenizer.eos_token})\n",
    "    "
   ]
  },
  {
   "cell_type": "code",
   "execution_count": 4,
   "metadata": {},
   "outputs": [
    {
     "data": {
      "text/plain": [
       "705"
      ]
     },
     "execution_count": 4,
     "metadata": {},
     "output_type": "execute_result"
    }
   ],
   "source": [
    "len(tokenizer(dataset['train']['text'][4])['input_ids'])"
   ]
  },
  {
   "cell_type": "code",
   "execution_count": 5,
   "metadata": {},
   "outputs": [
    {
     "data": {
      "text/plain": [
       "datasets.dataset_dict.DatasetDict"
      ]
     },
     "execution_count": 5,
     "metadata": {},
     "output_type": "execute_result"
    }
   ],
   "source": [
    "type(dataset)"
   ]
  },
  {
   "cell_type": "code",
   "execution_count": 6,
   "metadata": {},
   "outputs": [],
   "source": [
    "cropped_dataset = dataset['train'].select(range(1000))"
   ]
  },
  {
   "cell_type": "code",
   "execution_count": 7,
   "metadata": {},
   "outputs": [
    {
     "data": {
      "text/plain": [
       "Dataset({\n",
       "    features: ['text'],\n",
       "    num_rows: 1000\n",
       "})"
      ]
     },
     "execution_count": 7,
     "metadata": {},
     "output_type": "execute_result"
    }
   ],
   "source": [
    "cropped_dataset"
   ]
  },
  {
   "cell_type": "code",
   "execution_count": 12,
   "metadata": {},
   "outputs": [],
   "source": [
    "MAX_SEQ_LEN = 1024\n",
    "PAD_ID = tokenizer.eos_token_id\n",
    "\n",
    "def tokenize(batch):\n",
    "    return tokenizer(batch['text'])\n",
    "\n",
    "class MyDataset(Dataset):\n",
    "    def __init__(self, dataset):\n",
    "        super().__init__()\n",
    "        self.tokenized_data = dataset.map(tokenize, batched=True, remove_columns=['text'])['input_ids']\n",
    "\n",
    "    def __getitem__(self, index):\n",
    "        return self.tokenized_data[index]\n",
    "\n",
    "    def __len__(self):\n",
    "        return len(self.tokenized_data)\n",
    "\n",
    "def collate_fn(batch):\n",
    "    flatten = []\n",
    "    for text in batch:\n",
    "        flatten += text\n",
    "    target_size = len(batch) * MAX_SEQ_LEN\n",
    "    if len(flatten) < target_size:\n",
    "        flatten += [PAD_ID] * (target_size - len(flatten))\n",
    "    else:\n",
    "        flatten = flatten[:target_size]\n",
    "    \n",
    "    flatten = torch.Tensor(flatten).to(torch.long).view(len(batch), MAX_SEQ_LEN)\n",
    "    return flatten\n",
    "\n",
    "\n",
    "my_data = MyDataset(cropped_dataset)\n",
    "train_dataloader = DataLoader(my_data, batch_size=1, collate_fn=collate_fn)"
   ]
  },
  {
   "cell_type": "code",
   "execution_count": 13,
   "metadata": {},
   "outputs": [],
   "source": [
    "device = 'cpu'"
   ]
  },
  {
   "cell_type": "code",
   "execution_count": 14,
   "metadata": {},
   "outputs": [
    {
     "name": "stdout",
     "output_type": "stream",
     "text": [
      "LLaMa(\n",
      "  (embed): Embedding(32000, 768)\n",
      "  (rmsnorm): RMSNorm()\n",
      "  (blocks): Sequential(\n",
      "    (LLaMa Block 0): LLaMaBlock(\n",
      "      (rms_attn): RMSNorm()\n",
      "      (attention): MultiHeadAttention(\n",
      "        (w_q): Linear(in_features=768, out_features=768, bias=False)\n",
      "        (w_k): Linear(in_features=768, out_features=768, bias=False)\n",
      "        (w_v): Linear(in_features=768, out_features=768, bias=False)\n",
      "        (shuffler): Linear(in_features=768, out_features=768, bias=False)\n",
      "      )\n",
      "      (rms_ffn): RMSNorm()\n",
      "      (swiglu): SwiGLUFeedForward(\n",
      "        (U): Linear(in_features=768, out_features=2048, bias=True)\n",
      "        (W): Linear(in_features=768, out_features=2048, bias=True)\n",
      "        (V): Linear(in_features=2048, out_features=768, bias=True)\n",
      "        (swish): Swish(\n",
      "          (sigmoid): Sigmoid()\n",
      "        )\n",
      "      )\n",
      "    )\n",
      "    (LLaMa Block 1): LLaMaBlock(\n",
      "      (rms_attn): RMSNorm()\n",
      "      (attention): MultiHeadAttention(\n",
      "        (w_q): Linear(in_features=768, out_features=768, bias=False)\n",
      "        (w_k): Linear(in_features=768, out_features=768, bias=False)\n",
      "        (w_v): Linear(in_features=768, out_features=768, bias=False)\n",
      "        (shuffler): Linear(in_features=768, out_features=768, bias=False)\n",
      "      )\n",
      "      (rms_ffn): RMSNorm()\n",
      "      (swiglu): SwiGLUFeedForward(\n",
      "        (U): Linear(in_features=768, out_features=2048, bias=True)\n",
      "        (W): Linear(in_features=768, out_features=2048, bias=True)\n",
      "        (V): Linear(in_features=2048, out_features=768, bias=True)\n",
      "        (swish): Swish(\n",
      "          (sigmoid): Sigmoid()\n",
      "        )\n",
      "      )\n",
      "    )\n",
      "    (LLaMa Block 2): LLaMaBlock(\n",
      "      (rms_attn): RMSNorm()\n",
      "      (attention): MultiHeadAttention(\n",
      "        (w_q): Linear(in_features=768, out_features=768, bias=False)\n",
      "        (w_k): Linear(in_features=768, out_features=768, bias=False)\n",
      "        (w_v): Linear(in_features=768, out_features=768, bias=False)\n",
      "        (shuffler): Linear(in_features=768, out_features=768, bias=False)\n",
      "      )\n",
      "      (rms_ffn): RMSNorm()\n",
      "      (swiglu): SwiGLUFeedForward(\n",
      "        (U): Linear(in_features=768, out_features=2048, bias=True)\n",
      "        (W): Linear(in_features=768, out_features=2048, bias=True)\n",
      "        (V): Linear(in_features=2048, out_features=768, bias=True)\n",
      "        (swish): Swish(\n",
      "          (sigmoid): Sigmoid()\n",
      "        )\n",
      "      )\n",
      "    )\n",
      "  )\n",
      "  (output_linear): Linear(in_features=768, out_features=32000, bias=True)\n",
      ")\n",
      "All parameters: 70437635\n",
      "Trainable parameters: 70437635\n"
     ]
    },
    {
     "data": {
      "application/vnd.jupyter.widget-view+json": {
       "model_id": "2ba8fea5d7264bdea8818c5f225df1a3",
       "version_major": 2,
       "version_minor": 0
      },
      "text/plain": [
       "Training Epoch 0:   0%|          | 0/1000 [00:00<?, ?it/s]"
      ]
     },
     "metadata": {},
     "output_type": "display_data"
    },
    {
     "name": "stdout",
     "output_type": "stream",
     "text": [
      "1\n",
      "1\n",
      "1\n",
      "1\n",
      "1\n",
      "1\n",
      "1\n",
      "1\n",
      "1\n",
      "1\n",
      "1\n",
      "1\n",
      "1\n",
      "1\n",
      "1\n",
      "1\n",
      "1\n",
      "1\n",
      "1\n",
      "1\n",
      "1\n",
      "1\n",
      "1\n",
      "1\n",
      "1\n",
      "1\n",
      "1\n",
      "1\n",
      "1\n",
      "1\n"
     ]
    },
    {
     "ename": "KeyboardInterrupt",
     "evalue": "",
     "output_type": "error",
     "traceback": [
      "\u001b[0;31m---------------------------------------------------------------------------\u001b[0m",
      "\u001b[0;31mKeyboardInterrupt\u001b[0m                         Traceback (most recent call last)",
      "Cell \u001b[0;32mIn[14], line 44\u001b[0m\n\u001b[1;32m     42\u001b[0m optimizer \u001b[39m=\u001b[39m torch\u001b[39m.\u001b[39moptim\u001b[39m.\u001b[39mAdamW(model\u001b[39m.\u001b[39mparameters(), lr\u001b[39m=\u001b[39m\u001b[39m3e-4\u001b[39m, betas\u001b[39m=\u001b[39m(\u001b[39m0.9\u001b[39m, \u001b[39m0.95\u001b[39m), weight_decay\u001b[39m=\u001b[39m\u001b[39m0.1\u001b[39m)\n\u001b[1;32m     43\u001b[0m n_epochs \u001b[39m=\u001b[39m \u001b[39m5\u001b[39m\n\u001b[0;32m---> 44\u001b[0m train(model, criterion, optimizer, n_epochs, train_dataloader)\n",
      "Cell \u001b[0;32mIn[14], line 35\u001b[0m, in \u001b[0;36mtrain\u001b[0;34m(model, criterion, optimizer, n_epochs, train_loader)\u001b[0m\n\u001b[1;32m     32\u001b[0m \u001b[39mprint\u001b[39m(model)\n\u001b[1;32m     33\u001b[0m \u001b[39mfor\u001b[39;00m epoch \u001b[39min\u001b[39;00m \u001b[39mrange\u001b[39m(n_epochs):\n\u001b[0;32m---> 35\u001b[0m     train_loss \u001b[39m=\u001b[39m train_epoch(model, criterion, optimizer, train_loader, epoch)\n\u001b[1;32m     36\u001b[0m     \u001b[39mprint\u001b[39m(\u001b[39mf\u001b[39m\u001b[39m\"\u001b[39m\u001b[39mTrain loss: \u001b[39m\u001b[39m{\u001b[39;00mnp\u001b[39m.\u001b[39mmean(train_loss)\u001b[39m}\u001b[39;00m\u001b[39m\"\u001b[39m)\n",
      "Cell \u001b[0;32mIn[14], line 22\u001b[0m, in \u001b[0;36mtrain_epoch\u001b[0;34m(model, criterion, optimizer, train_loader, epoch)\u001b[0m\n\u001b[1;32m     20\u001b[0m optimizer\u001b[39m.\u001b[39mzero_grad()\n\u001b[1;32m     21\u001b[0m \u001b[39mprint\u001b[39m(\u001b[39m1\u001b[39m)\n\u001b[0;32m---> 22\u001b[0m out \u001b[39m=\u001b[39m model(data) \u001b[39m# batch_size, seq_len, vocab_size\u001b[39;00m\n\u001b[1;32m     23\u001b[0m loss \u001b[39m=\u001b[39m compute_loss(criterion, out[:, :\u001b[39m-\u001b[39m\u001b[39m1\u001b[39m], data[:, \u001b[39m1\u001b[39m:]\u001b[39m.\u001b[39mclone(), PAD_ID)\n\u001b[1;32m     24\u001b[0m loss_log\u001b[39m.\u001b[39mappend(loss\u001b[39m.\u001b[39mitem())\n",
      "File \u001b[0;32m/opt/homebrew/lib/python3.11/site-packages/torch/nn/modules/module.py:1511\u001b[0m, in \u001b[0;36mModule._wrapped_call_impl\u001b[0;34m(self, *args, **kwargs)\u001b[0m\n\u001b[1;32m   1509\u001b[0m     \u001b[39mreturn\u001b[39;00m \u001b[39mself\u001b[39m\u001b[39m.\u001b[39m_compiled_call_impl(\u001b[39m*\u001b[39margs, \u001b[39m*\u001b[39m\u001b[39m*\u001b[39mkwargs)  \u001b[39m# type: ignore[misc]\u001b[39;00m\n\u001b[1;32m   1510\u001b[0m \u001b[39melse\u001b[39;00m:\n\u001b[0;32m-> 1511\u001b[0m     \u001b[39mreturn\u001b[39;00m \u001b[39mself\u001b[39;49m\u001b[39m.\u001b[39;49m_call_impl(\u001b[39m*\u001b[39;49margs, \u001b[39m*\u001b[39;49m\u001b[39m*\u001b[39;49mkwargs)\n",
      "File \u001b[0;32m/opt/homebrew/lib/python3.11/site-packages/torch/nn/modules/module.py:1520\u001b[0m, in \u001b[0;36mModule._call_impl\u001b[0;34m(self, *args, **kwargs)\u001b[0m\n\u001b[1;32m   1515\u001b[0m \u001b[39m# If we don't have any hooks, we want to skip the rest of the logic in\u001b[39;00m\n\u001b[1;32m   1516\u001b[0m \u001b[39m# this function, and just call forward.\u001b[39;00m\n\u001b[1;32m   1517\u001b[0m \u001b[39mif\u001b[39;00m \u001b[39mnot\u001b[39;00m (\u001b[39mself\u001b[39m\u001b[39m.\u001b[39m_backward_hooks \u001b[39mor\u001b[39;00m \u001b[39mself\u001b[39m\u001b[39m.\u001b[39m_backward_pre_hooks \u001b[39mor\u001b[39;00m \u001b[39mself\u001b[39m\u001b[39m.\u001b[39m_forward_hooks \u001b[39mor\u001b[39;00m \u001b[39mself\u001b[39m\u001b[39m.\u001b[39m_forward_pre_hooks\n\u001b[1;32m   1518\u001b[0m         \u001b[39mor\u001b[39;00m _global_backward_pre_hooks \u001b[39mor\u001b[39;00m _global_backward_hooks\n\u001b[1;32m   1519\u001b[0m         \u001b[39mor\u001b[39;00m _global_forward_hooks \u001b[39mor\u001b[39;00m _global_forward_pre_hooks):\n\u001b[0;32m-> 1520\u001b[0m     \u001b[39mreturn\u001b[39;00m forward_call(\u001b[39m*\u001b[39;49margs, \u001b[39m*\u001b[39;49m\u001b[39m*\u001b[39;49mkwargs)\n\u001b[1;32m   1522\u001b[0m \u001b[39mtry\u001b[39;00m:\n\u001b[1;32m   1523\u001b[0m     result \u001b[39m=\u001b[39m \u001b[39mNone\u001b[39;00m\n",
      "File \u001b[0;32m~/Desktop/Универ/4/NLP/hw3/model/llama.py:41\u001b[0m, in \u001b[0;36mLLaMa.forward\u001b[0;34m(self, input_)\u001b[0m\n\u001b[1;32m     39\u001b[0m x \u001b[39m=\u001b[39m \u001b[39mself\u001b[39m\u001b[39m.\u001b[39membed(input_) \u001b[39m# batch_size, seq_len, hidden_dim\u001b[39;00m\n\u001b[1;32m     40\u001b[0m \u001b[39mfor\u001b[39;00m block \u001b[39min\u001b[39;00m \u001b[39mself\u001b[39m\u001b[39m.\u001b[39mblocks:\n\u001b[0;32m---> 41\u001b[0m     x \u001b[39m=\u001b[39m block(x)\n\u001b[1;32m     43\u001b[0m x \u001b[39m=\u001b[39m \u001b[39mself\u001b[39m\u001b[39m.\u001b[39mrmsnorm(x) \n\u001b[1;32m     44\u001b[0m x \u001b[39m=\u001b[39m \u001b[39mself\u001b[39m\u001b[39m.\u001b[39moutput_linear(x) \n",
      "File \u001b[0;32m/opt/homebrew/lib/python3.11/site-packages/torch/nn/modules/module.py:1511\u001b[0m, in \u001b[0;36mModule._wrapped_call_impl\u001b[0;34m(self, *args, **kwargs)\u001b[0m\n\u001b[1;32m   1509\u001b[0m     \u001b[39mreturn\u001b[39;00m \u001b[39mself\u001b[39m\u001b[39m.\u001b[39m_compiled_call_impl(\u001b[39m*\u001b[39margs, \u001b[39m*\u001b[39m\u001b[39m*\u001b[39mkwargs)  \u001b[39m# type: ignore[misc]\u001b[39;00m\n\u001b[1;32m   1510\u001b[0m \u001b[39melse\u001b[39;00m:\n\u001b[0;32m-> 1511\u001b[0m     \u001b[39mreturn\u001b[39;00m \u001b[39mself\u001b[39;49m\u001b[39m.\u001b[39;49m_call_impl(\u001b[39m*\u001b[39;49margs, \u001b[39m*\u001b[39;49m\u001b[39m*\u001b[39;49mkwargs)\n",
      "File \u001b[0;32m/opt/homebrew/lib/python3.11/site-packages/torch/nn/modules/module.py:1520\u001b[0m, in \u001b[0;36mModule._call_impl\u001b[0;34m(self, *args, **kwargs)\u001b[0m\n\u001b[1;32m   1515\u001b[0m \u001b[39m# If we don't have any hooks, we want to skip the rest of the logic in\u001b[39;00m\n\u001b[1;32m   1516\u001b[0m \u001b[39m# this function, and just call forward.\u001b[39;00m\n\u001b[1;32m   1517\u001b[0m \u001b[39mif\u001b[39;00m \u001b[39mnot\u001b[39;00m (\u001b[39mself\u001b[39m\u001b[39m.\u001b[39m_backward_hooks \u001b[39mor\u001b[39;00m \u001b[39mself\u001b[39m\u001b[39m.\u001b[39m_backward_pre_hooks \u001b[39mor\u001b[39;00m \u001b[39mself\u001b[39m\u001b[39m.\u001b[39m_forward_hooks \u001b[39mor\u001b[39;00m \u001b[39mself\u001b[39m\u001b[39m.\u001b[39m_forward_pre_hooks\n\u001b[1;32m   1518\u001b[0m         \u001b[39mor\u001b[39;00m _global_backward_pre_hooks \u001b[39mor\u001b[39;00m _global_backward_hooks\n\u001b[1;32m   1519\u001b[0m         \u001b[39mor\u001b[39;00m _global_forward_hooks \u001b[39mor\u001b[39;00m _global_forward_pre_hooks):\n\u001b[0;32m-> 1520\u001b[0m     \u001b[39mreturn\u001b[39;00m forward_call(\u001b[39m*\u001b[39;49margs, \u001b[39m*\u001b[39;49m\u001b[39m*\u001b[39;49mkwargs)\n\u001b[1;32m   1522\u001b[0m \u001b[39mtry\u001b[39;00m:\n\u001b[1;32m   1523\u001b[0m     result \u001b[39m=\u001b[39m \u001b[39mNone\u001b[39;00m\n",
      "File \u001b[0;32m~/Desktop/Универ/4/NLP/hw3/model/llama.py:21\u001b[0m, in \u001b[0;36mLLaMaBlock.forward\u001b[0;34m(self, input_)\u001b[0m\n\u001b[1;32m     19\u001b[0m x \u001b[39m=\u001b[39m \u001b[39mself\u001b[39m\u001b[39m.\u001b[39mattention(\u001b[39mself\u001b[39m\u001b[39m.\u001b[39mrms_attn(input_)) \u001b[39m# batch_size, seq_len, hidden_dim\u001b[39;00m\n\u001b[1;32m     20\u001b[0m x \u001b[39m=\u001b[39m input_ \u001b[39m+\u001b[39m x \n\u001b[0;32m---> 21\u001b[0m x \u001b[39m=\u001b[39m x \u001b[39m+\u001b[39m \u001b[39mself\u001b[39;49m\u001b[39m.\u001b[39;49mswiglu(\u001b[39mself\u001b[39;49m\u001b[39m.\u001b[39;49mrms_ffn(x)) \n\u001b[1;32m     22\u001b[0m \u001b[39mreturn\u001b[39;00m x\n",
      "File \u001b[0;32m/opt/homebrew/lib/python3.11/site-packages/torch/nn/modules/module.py:1511\u001b[0m, in \u001b[0;36mModule._wrapped_call_impl\u001b[0;34m(self, *args, **kwargs)\u001b[0m\n\u001b[1;32m   1509\u001b[0m     \u001b[39mreturn\u001b[39;00m \u001b[39mself\u001b[39m\u001b[39m.\u001b[39m_compiled_call_impl(\u001b[39m*\u001b[39margs, \u001b[39m*\u001b[39m\u001b[39m*\u001b[39mkwargs)  \u001b[39m# type: ignore[misc]\u001b[39;00m\n\u001b[1;32m   1510\u001b[0m \u001b[39melse\u001b[39;00m:\n\u001b[0;32m-> 1511\u001b[0m     \u001b[39mreturn\u001b[39;00m \u001b[39mself\u001b[39;49m\u001b[39m.\u001b[39;49m_call_impl(\u001b[39m*\u001b[39;49margs, \u001b[39m*\u001b[39;49m\u001b[39m*\u001b[39;49mkwargs)\n",
      "File \u001b[0;32m/opt/homebrew/lib/python3.11/site-packages/torch/nn/modules/module.py:1520\u001b[0m, in \u001b[0;36mModule._call_impl\u001b[0;34m(self, *args, **kwargs)\u001b[0m\n\u001b[1;32m   1515\u001b[0m \u001b[39m# If we don't have any hooks, we want to skip the rest of the logic in\u001b[39;00m\n\u001b[1;32m   1516\u001b[0m \u001b[39m# this function, and just call forward.\u001b[39;00m\n\u001b[1;32m   1517\u001b[0m \u001b[39mif\u001b[39;00m \u001b[39mnot\u001b[39;00m (\u001b[39mself\u001b[39m\u001b[39m.\u001b[39m_backward_hooks \u001b[39mor\u001b[39;00m \u001b[39mself\u001b[39m\u001b[39m.\u001b[39m_backward_pre_hooks \u001b[39mor\u001b[39;00m \u001b[39mself\u001b[39m\u001b[39m.\u001b[39m_forward_hooks \u001b[39mor\u001b[39;00m \u001b[39mself\u001b[39m\u001b[39m.\u001b[39m_forward_pre_hooks\n\u001b[1;32m   1518\u001b[0m         \u001b[39mor\u001b[39;00m _global_backward_pre_hooks \u001b[39mor\u001b[39;00m _global_backward_hooks\n\u001b[1;32m   1519\u001b[0m         \u001b[39mor\u001b[39;00m _global_forward_hooks \u001b[39mor\u001b[39;00m _global_forward_pre_hooks):\n\u001b[0;32m-> 1520\u001b[0m     \u001b[39mreturn\u001b[39;00m forward_call(\u001b[39m*\u001b[39;49margs, \u001b[39m*\u001b[39;49m\u001b[39m*\u001b[39;49mkwargs)\n\u001b[1;32m   1522\u001b[0m \u001b[39mtry\u001b[39;00m:\n\u001b[1;32m   1523\u001b[0m     result \u001b[39m=\u001b[39m \u001b[39mNone\u001b[39;00m\n",
      "File \u001b[0;32m~/Desktop/Универ/4/NLP/hw3/model/feed_forward.py:25\u001b[0m, in \u001b[0;36mSwiGLUFeedForward.forward\u001b[0;34m(self, input_)\u001b[0m\n\u001b[1;32m     23\u001b[0m \u001b[39mdef\u001b[39;00m \u001b[39mforward\u001b[39m(\u001b[39mself\u001b[39m, input_: Tensor) \u001b[39m-\u001b[39m\u001b[39m>\u001b[39m Tensor:\n\u001b[1;32m     24\u001b[0m     x1 \u001b[39m=\u001b[39m \u001b[39mself\u001b[39m\u001b[39m.\u001b[39mswish(\u001b[39mself\u001b[39m\u001b[39m.\u001b[39mU(input_)) \u001b[39m# batch_size, seq_len, hidden_dim * c\u001b[39;00m\n\u001b[0;32m---> 25\u001b[0m     x2 \u001b[39m=\u001b[39m \u001b[39mself\u001b[39;49m\u001b[39m.\u001b[39;49mW(input_) \u001b[39m# batch_size, seq_len, hidden_dim * c\u001b[39;00m\n\u001b[1;32m     26\u001b[0m     x \u001b[39m=\u001b[39m \u001b[39mself\u001b[39m\u001b[39m.\u001b[39mV(x1 \u001b[39m*\u001b[39m x2)\n\u001b[1;32m     27\u001b[0m     \u001b[39mreturn\u001b[39;00m x\n",
      "File \u001b[0;32m/opt/homebrew/lib/python3.11/site-packages/torch/nn/modules/module.py:1511\u001b[0m, in \u001b[0;36mModule._wrapped_call_impl\u001b[0;34m(self, *args, **kwargs)\u001b[0m\n\u001b[1;32m   1509\u001b[0m     \u001b[39mreturn\u001b[39;00m \u001b[39mself\u001b[39m\u001b[39m.\u001b[39m_compiled_call_impl(\u001b[39m*\u001b[39margs, \u001b[39m*\u001b[39m\u001b[39m*\u001b[39mkwargs)  \u001b[39m# type: ignore[misc]\u001b[39;00m\n\u001b[1;32m   1510\u001b[0m \u001b[39melse\u001b[39;00m:\n\u001b[0;32m-> 1511\u001b[0m     \u001b[39mreturn\u001b[39;00m \u001b[39mself\u001b[39;49m\u001b[39m.\u001b[39;49m_call_impl(\u001b[39m*\u001b[39;49margs, \u001b[39m*\u001b[39;49m\u001b[39m*\u001b[39;49mkwargs)\n",
      "File \u001b[0;32m/opt/homebrew/lib/python3.11/site-packages/torch/nn/modules/module.py:1520\u001b[0m, in \u001b[0;36mModule._call_impl\u001b[0;34m(self, *args, **kwargs)\u001b[0m\n\u001b[1;32m   1515\u001b[0m \u001b[39m# If we don't have any hooks, we want to skip the rest of the logic in\u001b[39;00m\n\u001b[1;32m   1516\u001b[0m \u001b[39m# this function, and just call forward.\u001b[39;00m\n\u001b[1;32m   1517\u001b[0m \u001b[39mif\u001b[39;00m \u001b[39mnot\u001b[39;00m (\u001b[39mself\u001b[39m\u001b[39m.\u001b[39m_backward_hooks \u001b[39mor\u001b[39;00m \u001b[39mself\u001b[39m\u001b[39m.\u001b[39m_backward_pre_hooks \u001b[39mor\u001b[39;00m \u001b[39mself\u001b[39m\u001b[39m.\u001b[39m_forward_hooks \u001b[39mor\u001b[39;00m \u001b[39mself\u001b[39m\u001b[39m.\u001b[39m_forward_pre_hooks\n\u001b[1;32m   1518\u001b[0m         \u001b[39mor\u001b[39;00m _global_backward_pre_hooks \u001b[39mor\u001b[39;00m _global_backward_hooks\n\u001b[1;32m   1519\u001b[0m         \u001b[39mor\u001b[39;00m _global_forward_hooks \u001b[39mor\u001b[39;00m _global_forward_pre_hooks):\n\u001b[0;32m-> 1520\u001b[0m     \u001b[39mreturn\u001b[39;00m forward_call(\u001b[39m*\u001b[39;49margs, \u001b[39m*\u001b[39;49m\u001b[39m*\u001b[39;49mkwargs)\n\u001b[1;32m   1522\u001b[0m \u001b[39mtry\u001b[39;00m:\n\u001b[1;32m   1523\u001b[0m     result \u001b[39m=\u001b[39m \u001b[39mNone\u001b[39;00m\n",
      "File \u001b[0;32m/opt/homebrew/lib/python3.11/site-packages/torch/nn/modules/linear.py:116\u001b[0m, in \u001b[0;36mLinear.forward\u001b[0;34m(self, input)\u001b[0m\n\u001b[1;32m    115\u001b[0m \u001b[39mdef\u001b[39;00m \u001b[39mforward\u001b[39m(\u001b[39mself\u001b[39m, \u001b[39minput\u001b[39m: Tensor) \u001b[39m-\u001b[39m\u001b[39m>\u001b[39m Tensor:\n\u001b[0;32m--> 116\u001b[0m     \u001b[39mreturn\u001b[39;00m F\u001b[39m.\u001b[39;49mlinear(\u001b[39minput\u001b[39;49m, \u001b[39mself\u001b[39;49m\u001b[39m.\u001b[39;49mweight, \u001b[39mself\u001b[39;49m\u001b[39m.\u001b[39;49mbias)\n",
      "\u001b[0;31mKeyboardInterrupt\u001b[0m: "
     ]
    },
    {
     "ename": "",
     "evalue": "",
     "output_type": "error",
     "traceback": [
      "\u001b[1;31mПри выполнении кода в текущей ячейке или предыдущей ячейке ядро аварийно завершило работу. Проверьте код в ячейках, чтобы определить возможную причину сбоя. Щелкните <a href=\"https://aka.ms/vscodeJupyterKernelCrash\">здесь</a> для получения дополнительных сведений. Подробнее см. в <a href='command:jupyter.viewOutput'>журнале Jupyter</a>."
     ]
    }
   ],
   "source": [
    "import torch.nn.functional as F\n",
    "from tqdm.notebook import tqdm\n",
    "import numpy as np\n",
    "from collections import defaultdict\n",
    "\n",
    "def compute_loss(criterion, logits: torch.Tensor, labels: torch.Tensor, pad_id):\n",
    "    logits = logits.reshape(-1, 32000)\n",
    "    labels = labels.view(-1)\n",
    "\n",
    "    loss = criterion(logits, labels, ignore_index=pad_id)\n",
    "    return loss\n",
    "\n",
    "def train_epoch(model, criterion, optimizer, train_loader, epoch):\n",
    "    loss_log = []\n",
    "    model.train()\n",
    "    \n",
    "    for data in tqdm(train_loader, desc=f\"Training Epoch {epoch}\"):\n",
    "        data = data.to(device) # batch_size, seq_len\n",
    "\n",
    "        optimizer.zero_grad()\n",
    "        print(1)\n",
    "        out = model(data) # batch_size, seq_len, vocab_size\n",
    "        loss = compute_loss(criterion, out[:, :-1], data[:, 1:].clone(), PAD_ID)\n",
    "        loss_log.append(loss.item())\n",
    "        \n",
    "        loss.backward()\n",
    "        optimizer.step()\n",
    "\n",
    "    return loss_log\n",
    "\n",
    "def train(model, criterion, optimizer, n_epochs, train_loader):\n",
    "    print(model)\n",
    "    for epoch in range(n_epochs):\n",
    "        \n",
    "        train_loss = train_epoch(model, criterion, optimizer, train_loader, epoch)\n",
    "        print(f\"Train loss: {np.mean(train_loss)}\")\n",
    "\n",
    "vocab_size = tokenizer.vocab_size\n",
    "\n",
    "model = LLaMa(vocab_size, 3, MAX_SEQ_LEN, 768, 8)\n",
    "criterion = F.cross_entropy\n",
    "optimizer = torch.optim.AdamW(model.parameters(), lr=3e-4, betas=(0.9, 0.95), weight_decay=0.1)\n",
    "n_epochs = 5\n",
    "train(model, criterion, optimizer, n_epochs, train_dataloader)"
   ]
  },
  {
   "cell_type": "code",
   "execution_count": 81,
   "metadata": {},
   "outputs": [
    {
     "data": {
      "text/plain": [
       "32000"
      ]
     },
     "execution_count": 81,
     "metadata": {},
     "output_type": "execute_result"
    }
   ],
   "source": [
    "tokenizer.vocab_size"
   ]
  },
  {
   "cell_type": "code",
   "execution_count": 85,
   "metadata": {},
   "outputs": [],
   "source": [
    "device = 'cpu'"
   ]
  },
  {
   "cell_type": "code",
   "execution_count": 91,
   "metadata": {},
   "outputs": [
    {
     "data": {
      "text/plain": [
       "'LLaMa(\\n  (embed): Embedding(32000, 758)\\n  (rmsnorm): RMSNorm()\\n  (blocks): Sequential(\\n    (LLaMa Block 0): LLaMaBlock(\\n      (rms_attn): RMSNorm()\\n      (attention): MultiHeadAttention(\\n        (w_q): Linear(in_features=758, out_features=758, bias=False)\\n        (w_k): Linear(in_features=758, out_features=758, bias=False)\\n        (w_v): Linear(in_features=758, out_features=758, bias=False)\\n        (shuffler): Linear(in_features=758, out_features=758, bias=False)\\n      )\\n      (rms_ffn): RMSNorm()\\n      (swiglu): SwiGLUFeedForward(\\n        (U): Linear(in_features=758, out_features=2021, bias=True)\\n        (W): Linear(in_features=758, out_features=2021, bias=True)\\n        (V): Linear(in_features=2021, out_features=758, bias=True)\\n        (swish): Swish(\\n          (sigmoid): Sigmoid()\\n        )\\n      )\\n    )\\n    (LLaMa Block 1): LLaMaBlock(\\n      (rms_attn): RMSNorm()\\n      (attention): MultiHeadAttention(\\n        (w_q): Linear(in_features=758, out_features=758, bias=False)\\n        (w_k): Linear(in_features=758, out_features=758, bias=False)\\n        (w_v): Linear(in_features=758, out_features=758, bias=False)\\n        (shuffler): Linear(in_features=758, out_features=758, bias=False)\\n      )\\n      (rms_ffn): RMSNorm()\\n      (swiglu): SwiGLUFeedForward(\\n        (U): Linear(in_features=758, out_features=2021, bias=True)\\n        (W): Linear(in_features=758, out_features=2021, bias=True)\\n        (V): Linear(in_features=2021, out_features=758, bias=True)\\n        (swish): Swish(\\n          (sigmoid): Sigmoid()\\n        )\\n      )\\n    )\\n    (LLaMa Block 2): LLaMaBlock(\\n      (rms_attn): RMSNorm()\\n      (attention): MultiHeadAttention(\\n        (w_q): Linear(in_features=758, out_features=758, bias=False)\\n        (w_k): Linear(in_features=758, out_features=758, bias=False)\\n        (w_v): Linear(in_features=758, out_features=758, bias=False)\\n        (shuffler): Linear(in_features=758, out_features=758, bias=False)\\n      )\\n      (rms_ffn): RMSNorm()\\n      (swiglu): SwiGLUFeedForward(\\n        (U): Linear(in_features=758, out_features=2021, bias=True)\\n        (W): Linear(in_features=758, out_features=2021, bias=True)\\n        (V): Linear(in_features=2021, out_features=758, bias=True)\\n        (swish): Swish(\\n          (sigmoid): Sigmoid()\\n        )\\n      )\\n    )\\n  )\\n  (output_linear): Linear(in_features=758, out_features=32000, bias=True)\\n)'"
      ]
     },
     "execution_count": 91,
     "metadata": {},
     "output_type": "execute_result"
    }
   ],
   "source": [
    "model.__str__()"
   ]
  },
  {
   "cell_type": "code",
   "execution_count": null,
   "metadata": {},
   "outputs": [],
   "source": []
  },
  {
   "cell_type": "code",
   "execution_count": 1,
   "metadata": {},
   "outputs": [],
   "source": [
    "import torch\n",
    "\n",
    "mask = torch.full((1, 1, 5, 5), float(\"-inf\"))\n",
    "mask = torch.triu(mask, diagonal=0 + 1)"
   ]
  },
  {
   "cell_type": "code",
   "execution_count": 2,
   "metadata": {},
   "outputs": [
    {
     "data": {
      "text/plain": [
       "tensor([[[[0., -inf, -inf, -inf, -inf],\n",
       "          [0., 0., -inf, -inf, -inf],\n",
       "          [0., 0., 0., -inf, -inf],\n",
       "          [0., 0., 0., 0., -inf],\n",
       "          [0., 0., 0., 0., 0.]]]])"
      ]
     },
     "execution_count": 2,
     "metadata": {},
     "output_type": "execute_result"
    }
   ],
   "source": [
    "mask"
   ]
  },
  {
   "cell_type": "code",
   "execution_count": null,
   "metadata": {},
   "outputs": [],
   "source": []
  }
 ],
 "metadata": {
  "kernelspec": {
   "display_name": "Python 3.11.1 64-bit",
   "language": "python",
   "name": "python3"
  },
  "language_info": {
   "codemirror_mode": {
    "name": "ipython",
    "version": 3
   },
   "file_extension": ".py",
   "mimetype": "text/x-python",
   "name": "python",
   "nbconvert_exporter": "python",
   "pygments_lexer": "ipython3",
   "version": "3.11.1"
  },
  "orig_nbformat": 4,
  "vscode": {
   "interpreter": {
    "hash": "5c7b89af1651d0b8571dde13640ecdccf7d5a6204171d6ab33e7c296e100e08a"
   }
  }
 },
 "nbformat": 4,
 "nbformat_minor": 2
}
